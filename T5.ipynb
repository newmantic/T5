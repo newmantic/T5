{
  "nbformat": 4,
  "nbformat_minor": 0,
  "metadata": {
    "colab": {
      "provenance": [],
      "authorship_tag": "ABX9TyNRDa0E9DR6Wtm6PtHysU94",
      "include_colab_link": true
    },
    "kernelspec": {
      "name": "python3",
      "display_name": "Python 3"
    },
    "language_info": {
      "name": "python"
    }
  },
  "cells": [
    {
      "cell_type": "markdown",
      "metadata": {
        "id": "view-in-github",
        "colab_type": "text"
      },
      "source": [
        "<a href=\"https://colab.research.google.com/github/newmantic/T5/blob/main/T5.ipynb\" target=\"_parent\"><img src=\"https://colab.research.google.com/assets/colab-badge.svg\" alt=\"Open In Colab\"/></a>"
      ]
    },
    {
      "cell_type": "code",
      "execution_count": 1,
      "metadata": {
        "id": "rtoZ8G5G4dXM"
      },
      "outputs": [],
      "source": [
        "import torch\n",
        "import torch.nn as nn\n",
        "import torch.nn.functional as F\n",
        "import math"
      ]
    },
    {
      "cell_type": "code",
      "source": [
        "class TokenEmbedding(nn.Module):\n",
        "    def __init__(self, vocab_size, embed_size):\n",
        "        super(TokenEmbedding, self).__init__()\n",
        "        self.embedding = nn.Embedding(vocab_size, embed_size)\n",
        "\n",
        "    def forward(self, x):\n",
        "        return self.embedding(x)"
      ],
      "metadata": {
        "id": "3ZbslsMJ4r-w"
      },
      "execution_count": 2,
      "outputs": []
    },
    {
      "cell_type": "code",
      "source": [
        "class PositionalEncoding(nn.Module):\n",
        "    def __init__(self, embed_size, max_len=512):\n",
        "        super(PositionalEncoding, self).__init__()\n",
        "        self.encoding = torch.zeros(max_len, embed_size)\n",
        "        pos = torch.arange(0, max_len).unsqueeze(1).float()\n",
        "        i = torch.arange(0, embed_size // 2).float()\n",
        "        angle_rates = 1 / (10000 ** (2 * i / embed_size))\n",
        "        self.encoding[:, 0::2] = torch.sin(pos * angle_rates)\n",
        "        self.encoding[:, 1::2] = torch.cos(pos * angle_rates)\n",
        "        self.encoding = self.encoding.unsqueeze(0)\n",
        "\n",
        "    def forward(self, x):\n",
        "        return x + self.encoding[:, :x.size(1), :]"
      ],
      "metadata": {
        "id": "SjgcwBcL4t6w"
      },
      "execution_count": 3,
      "outputs": []
    },
    {
      "cell_type": "code",
      "source": [
        "class MultiHeadAttention(nn.Module):\n",
        "    def __init__(self, embed_size, heads):\n",
        "        super(MultiHeadAttention, self).__init__()\n",
        "        self.embed_size = embed_size\n",
        "        self.heads = heads\n",
        "        self.head_dim = embed_size // heads\n",
        "\n",
        "        assert self.head_dim * heads == embed_size, \"Embedding size must be divisible by heads\"\n",
        "\n",
        "        self.values = nn.Linear(self.head_dim, self.embed_size, bias=False)\n",
        "        self.keys = nn.Linear(self.head_dim, self.embed_size, bias=False)\n",
        "        self.queries = nn.Linear(self.head_dim, self.embed_size, bias=False)\n",
        "        self.fc_out = nn.Linear(embed_size, embed_size)\n",
        "\n",
        "    def forward(self, values, keys, query, mask):\n",
        "        N = query.shape[0]\n",
        "        value_len, key_len, query_len = values.shape[1], keys.shape[1], query.shape[1]\n",
        "\n",
        "        # Split embedding into self.heads pieces\n",
        "        values = values.reshape(N, value_len, self.heads, self.head_dim)\n",
        "        keys = keys.reshape(N, key_len, self.heads, self.head_dim)\n",
        "        queries = query.reshape(N, query_len, self.heads, self.head_dim)\n",
        "\n",
        "        energy = torch.einsum(\"nqhd,nkhd->nhqk\", [queries, keys])\n",
        "\n",
        "        if mask is not None:\n",
        "            energy = energy.masked_fill(mask == 0, float(\"-1e20\"))\n",
        "\n",
        "        attention = torch.softmax(energy / (self.embed_size ** (1 / 2)), dim=3)\n",
        "\n",
        "        out = torch.einsum(\"nhql,nlhd->nqhd\", [attention, values]).reshape(\n",
        "            N, query_len, self.embed_size\n",
        "        )\n",
        "\n",
        "        out = self.fc_out(out)\n",
        "        return out"
      ],
      "metadata": {
        "id": "dUYGV-si4xHk"
      },
      "execution_count": 4,
      "outputs": []
    },
    {
      "cell_type": "code",
      "source": [
        "class FeedForward(nn.Module):\n",
        "    def __init__(self, embed_size, ff_hidden_size, dropout):\n",
        "        super(FeedForward, self).__init__()\n",
        "        self.fc1 = nn.Linear(embed_size, ff_hidden_size)\n",
        "        self.fc2 = nn.Linear(ff_hidden_size, embed_size)\n",
        "        self.dropout = nn.Dropout(dropout)\n",
        "\n",
        "    def forward(self, x):\n",
        "        return self.fc2(self.dropout(F.relu(self.fc1(x))))"
      ],
      "metadata": {
        "id": "PnG3uh7U4z7Q"
      },
      "execution_count": 5,
      "outputs": []
    },
    {
      "cell_type": "code",
      "source": [
        "class TransformerBlock(nn.Module):\n",
        "    def __init__(self, embed_size, heads, ff_hidden_size, dropout):\n",
        "        super(TransformerBlock, self).__init__()\n",
        "        self.attention = MultiHeadAttention(embed_size, heads)\n",
        "        self.norm1 = nn.LayerNorm(embed_size)\n",
        "        self.norm2 = nn.LayerNorm(embed_size)\n",
        "        self.ff = FeedForward(embed_size, ff_hidden_size, dropout)\n",
        "        self.dropout = nn.Dropout(dropout)\n",
        "\n",
        "    def forward(self, value, key, query, mask):\n",
        "        attention = self.attention(value, key, query, mask)\n",
        "        x = self.dropout(self.norm1(attention + query))\n",
        "        forward = self.ff(x)\n",
        "        out = self.dropout(self.norm2(forward + x))\n",
        "        return out"
      ],
      "metadata": {
        "id": "gA6879Cd42Kw"
      },
      "execution_count": 6,
      "outputs": []
    },
    {
      "cell_type": "code",
      "source": [
        "class Encoder(nn.Module):\n",
        "    def __init__(self, vocab_size, embed_size, num_layers, heads, ff_hidden_size, dropout, max_len):\n",
        "        super(Encoder, self).__init__()\n",
        "        self.token_embedding = TokenEmbedding(vocab_size, embed_size)\n",
        "        self.position_encoding = PositionalEncoding(embed_size, max_len)\n",
        "        self.layers = nn.ModuleList(\n",
        "            [\n",
        "                TransformerBlock(embed_size, heads, ff_hidden_size, dropout)\n",
        "                for _ in range(num_layers)\n",
        "            ]\n",
        "        )\n",
        "\n",
        "    def forward(self, x, mask):\n",
        "        out = self.token_embedding(x)\n",
        "        out = self.position_encoding(out)\n",
        "\n",
        "        for layer in self.layers:\n",
        "            out = layer(out, out, out, mask)\n",
        "\n",
        "        return out"
      ],
      "metadata": {
        "id": "-Zq8nShm443_"
      },
      "execution_count": 7,
      "outputs": []
    },
    {
      "cell_type": "code",
      "source": [
        "class DecoderBlock(nn.Module):\n",
        "    def __init__(self, embed_size, heads, ff_hidden_size, dropout):\n",
        "        super(DecoderBlock, self).__init__()\n",
        "        self.attention = MultiHeadAttention(embed_size, heads)\n",
        "        self.norm1 = nn.LayerNorm(embed_size)\n",
        "        self.cross_attention = MultiHeadAttention(embed_size, heads)\n",
        "        self.norm2 = nn.LayerNorm(embed_size)\n",
        "        self.norm3 = nn.LayerNorm(embed_size)\n",
        "        self.ff = FeedForward(embed_size, ff_hidden_size, dropout)\n",
        "        self.dropout = nn.Dropout(dropout)\n",
        "\n",
        "    def forward(self, x, value, key, src_mask, trg_mask):\n",
        "        attention = self.attention(x, x, x, trg_mask)\n",
        "        query = self.dropout(self.norm1(attention + x))\n",
        "        cross_attention = self.cross_attention(value, key, query, src_mask)\n",
        "        x = self.dropout(self.norm2(cross_attention + query))\n",
        "        forward = self.ff(x)\n",
        "        out = self.dropout(self.norm3(forward + x))\n",
        "        return out\n",
        "\n",
        "class Decoder(nn.Module):\n",
        "    def __init__(self, vocab_size, embed_size, num_layers, heads, ff_hidden_size, dropout, max_len):\n",
        "        super(Decoder, self).__init__()\n",
        "        self.token_embedding = TokenEmbedding(vocab_size, embed_size)\n",
        "        self.position_encoding = PositionalEncoding(embed_size, max_len)\n",
        "        self.layers = nn.ModuleList(\n",
        "            [\n",
        "                DecoderBlock(embed_size, heads, ff_hidden_size, dropout)\n",
        "                for _ in range(num_layers)\n",
        "            ]\n",
        "        )\n",
        "        self.fc_out = nn.Linear(embed_size, vocab_size)\n",
        "\n",
        "    def forward(self, x, enc_out, src_mask, trg_mask):\n",
        "        out = self.token_embedding(x)\n",
        "        out = self.position_encoding(out)\n",
        "\n",
        "        for layer in self.layers:\n",
        "            out = layer(out, enc_out, enc_out, src_mask, trg_mask)\n",
        "\n",
        "        out = self.fc_out(out)\n",
        "        return out"
      ],
      "metadata": {
        "id": "O86nPy-k47Ex"
      },
      "execution_count": 8,
      "outputs": []
    },
    {
      "cell_type": "code",
      "source": [
        "class T5(nn.Module):\n",
        "    def __init__(self, vocab_size, embed_size, num_layers, heads, ff_hidden_size, dropout, max_len):\n",
        "        super(T5, self).__init__()\n",
        "        self.encoder = Encoder(vocab_size, embed_size, num_layers, heads, ff_hidden_size, dropout, max_len)\n",
        "        self.decoder = Decoder(vocab_size, embed_size, num_layers, heads, ff_hidden_size, dropout, max_len)\n",
        "\n",
        "    def forward(self, src, trg, src_mask, trg_mask):\n",
        "        enc_out = self.encoder(src, src_mask)\n",
        "        out = self.decoder(trg, enc_out, src_mask, trg_mask)\n",
        "        return out"
      ],
      "metadata": {
        "id": "Ac9Q_Qtv5AEr"
      },
      "execution_count": 9,
      "outputs": []
    },
    {
      "cell_type": "code",
      "source": [
        "# Define a small vocab size and model parameters for the example\n",
        "vocab_size = 10000\n",
        "embed_size = 128\n",
        "num_layers = 2\n",
        "heads = 8\n",
        "ff_hidden_size = 512\n",
        "dropout = 0.3\n",
        "max_len = 512\n",
        "\n",
        "# Instantiate the T5 model\n",
        "model = T5(vocab_size, embed_size, num_layers, heads, ff_hidden_size, dropout, max_len)\n",
        "\n",
        "# Example input: batch size of 2, sequence length of 10 for both source and target sequences\n",
        "src = torch.randint(0, vocab_size, (2, 10))\n",
        "trg = torch.randint(0, vocab_size, (2, 10))\n",
        "\n",
        "# Masking for the source and target sequences (None for simplicity in this example)\n",
        "src_mask = None\n",
        "trg_mask = None\n",
        "\n",
        "# Forward pass through the model\n",
        "output = model(src, trg, src_mask, trg_mask)\n",
        "\n",
        "# Print the shapes of the input and output tensors to verify\n",
        "print(f\"Source Input (src): \\n{src}\")\n",
        "print(f\"Target Input (trg): \\n{trg}\")\n",
        "print(f\"Model Output: \\n{output}\")"
      ],
      "metadata": {
        "colab": {
          "base_uri": "https://localhost:8080/"
        },
        "id": "zithll-j5Av4",
        "outputId": "56ada372-d447-4510-a823-d185b4894b2d"
      },
      "execution_count": 12,
      "outputs": [
        {
          "output_type": "stream",
          "name": "stdout",
          "text": [
            "Source Input (src): \n",
            "tensor([[5860, 6047, 2119, 7529,   56, 8197, 2247, 2751, 7140, 1277],\n",
            "        [2096, 1653, 6168, 1225,  371, 5284,  365, 7736, 3973, 7943]])\n",
            "Target Input (trg): \n",
            "tensor([[9406, 7932, 3639, 5834, 9317, 3421, 2432, 7695, 8233, 3720],\n",
            "        [ 946, 2875, 8101,  963, 3326, 5471, 9853, 5283, 7959, 9894]])\n",
            "Model Output: \n",
            "tensor([[[ 0.1689, -0.0824, -0.0536,  ..., -0.3140,  0.9741, -0.1810],\n",
            "         [ 0.2126,  0.4521,  2.0198,  ..., -1.7455,  0.0716,  1.1459],\n",
            "         [-0.8085, -0.0210, -1.4434,  ...,  0.3958,  0.4651,  0.8200],\n",
            "         ...,\n",
            "         [ 0.6445,  0.4750,  0.5597,  ..., -0.6545, -0.3813,  0.9749],\n",
            "         [ 0.0367, -0.8057,  1.6405,  ..., -1.4660,  0.7535,  1.3746],\n",
            "         [-0.4985,  0.3318, -0.8476,  ..., -0.1576, -0.4301,  0.2718]],\n",
            "\n",
            "        [[ 0.9819, -0.6797, -0.7677,  ..., -0.2764,  1.0822, -0.5082],\n",
            "         [-0.6578,  0.0683,  0.7709,  ..., -0.1163,  0.1826,  0.9121],\n",
            "         [-0.1463, -1.5678, -0.3360,  ...,  0.1002,  0.9829,  0.6202],\n",
            "         ...,\n",
            "         [ 0.4434, -0.3657,  1.2172,  ...,  0.1129,  0.6553,  0.0352],\n",
            "         [-0.1009, -0.0388, -0.5365,  ...,  0.0200,  0.4977, -0.4373],\n",
            "         [ 0.2794,  0.0130,  0.6066,  ..., -0.4887, -0.2528,  0.0401]]],\n",
            "       grad_fn=<ViewBackward0>)\n"
          ]
        }
      ]
    }
  ]
}